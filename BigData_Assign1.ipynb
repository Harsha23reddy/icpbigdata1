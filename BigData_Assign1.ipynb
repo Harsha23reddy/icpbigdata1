{
  "cells": [
    {
      "cell_type": "code",
      "execution_count": 1,
      "metadata": {
        "colab": {
          "base_uri": "https://localhost:8080/"
        },
        "id": "OBaXwym42qhm",
        "outputId": "32c1ca32-f2b0-495c-f5ee-89feb36ed085"
      },
      "outputs": [
        {
          "output_type": "stream",
          "name": "stdout",
          "text": [
            "Enter a string: harsha\n",
            "ahsr\n"
          ]
        }
      ],
      "source": [
        "# Step 1: Take input and convert to list\n",
        "input_str = input(\"Enter a string: \")\n",
        "char_list = list(input_str)\n",
        "\n",
        "# Step 2: Delete at least 2 characters (e.g., delete characters at index 0 and 1)\n",
        "# You can change these indices as needed\n",
        "del char_list[0]     # Remove 'p'\n",
        "del char_list[0]     # Remove 'y' (now at index 0 after first deletion)\n",
        "\n",
        "# Step 3: Reverse the resulting list\n",
        "char_list.reverse()\n",
        "\n",
        "# Step 4: Join and print\n",
        "result = ''.join(char_list)\n",
        "print(result)\n"
      ]
    },
    {
      "cell_type": "code",
      "execution_count": 3,
      "metadata": {
        "colab": {
          "base_uri": "https://localhost:8080/"
        },
        "id": "TFntNfF63kj5",
        "outputId": "09063b7f-6ab6-4d26-f20a-e901816613f4"
      },
      "outputs": [
        {
          "output_type": "stream",
          "name": "stdout",
          "text": [
            "Enter first number: 124.4\n",
            "Enter second number: 0\n",
            "Addition: 124.4\n",
            "Subtraction: 124.4\n",
            "Multiplication: 0.0\n",
            "Division: Undefined (cannot divide by zero)\n"
          ]
        }
      ],
      "source": [
        "# Take input from user and convert to float\n",
        "num1 = float(input(\"Enter first number: \"))\n",
        "num2 = float(input(\"Enter second number: \"))\n",
        "\n",
        "# Perform arithmetic operations\n",
        "addition = num1 + num2\n",
        "subtraction = num1 - num2\n",
        "multiplication = num1 * num2\n",
        "\n",
        "# Check for division by zero\n",
        "if num2 != 0:\n",
        "    division = num1 / num2\n",
        "else:\n",
        "    division = \"Undefined (cannot divide by zero)\"\n",
        "\n",
        "# Print results\n",
        "print(\"Addition:\", addition)\n",
        "print(\"Subtraction:\", subtraction)\n",
        "print(\"Multiplication:\", multiplication)\n",
        "print(\"Division:\", division)"
      ]
    },
    {
      "cell_type": "code",
      "execution_count": 4,
      "metadata": {
        "colab": {
          "base_uri": "https://localhost:8080/"
        },
        "id": "rgqh5vHS3vUq",
        "outputId": "d5e37b4f-9de1-4fd2-ae61-ff5d4f2c5b0f"
      },
      "outputs": [
        {
          "output_type": "stream",
          "name": "stdout",
          "text": [
            "Enter a sentence: harsha is a good python\n",
            "Updated sentence: harsha is a good pythons\n"
          ]
        }
      ],
      "source": [
        "# Take sentence input from the user\n",
        "sentence = input(\"Enter a sentence: \")\n",
        "\n",
        "# Replace 'python' with 'pythons'\n",
        "updated_sentence = sentence.replace(\"python\", \"pythons\")\n",
        "\n",
        "# Print the result\n",
        "print(\"Updated sentence:\", updated_sentence)\n"
      ]
    },
    {
      "cell_type": "code",
      "execution_count": 7,
      "metadata": {
        "colab": {
          "base_uri": "https://localhost:8080/"
        },
        "id": "bD__HD644L_-",
        "outputId": "8809fedf-f034-487c-bd12-5de300e8a877"
      },
      "outputs": [
        {
          "output_type": "stream",
          "name": "stdout",
          "text": [
            "Enter your class score (0-100): 111\n",
            "Your grade is: Invalid score\n"
          ]
        }
      ],
      "source": [
        "# Take input score from user\n",
        "score = float(input(\"Enter your class score (0-100): \"))\n",
        "\n",
        "# Determine the letter grade\n",
        "if score >= 90 and score <= 100:\n",
        "    grade = \"A\"\n",
        "elif score >= 80 and score < 90:\n",
        "    grade = \"B\"\n",
        "elif score >= 70 and score < 80:\n",
        "    grade = \"C\"\n",
        "elif score >= 60 and score < 70:\n",
        "    grade = \"D\"\n",
        "elif score >= 0 and score < 60:\n",
        "    grade = \"F\"\n",
        "else:\n",
        "    grade = \"Invalid score\"\n",
        "\n",
        "# Print the result\n",
        "print(\"Your grade is:\", grade)\n"
      ]
    },
    {
      "cell_type": "code",
      "execution_count": 8,
      "metadata": {
        "colab": {
          "base_uri": "https://localhost:8080/"
        },
        "id": "2r2qZ0L74cjX",
        "outputId": "a368e925-c687-43ac-91b5-3e14edcaabdf"
      },
      "outputs": [
        {
          "output_type": "stream",
          "name": "stdout",
          "text": [
            "[43, 'Python', 43.89]\n",
            "[<class 'int'>, <class 'str'>, <class 'float'>]\n"
          ]
        }
      ],
      "source": [
        "# Given input list\n",
        "x = [43, 'Python', 43.89]\n",
        "\n",
        "# Create a new list containing types of each element\n",
        "types = [type(item) for item in x]\n",
        "\n",
        "# Print the original list\n",
        "print(x)\n",
        "\n",
        "# Print the list of types\n",
        "print(types)\n"
      ]
    },
    {
      "cell_type": "code",
      "execution_count": null,
      "metadata": {
        "colab": {
          "base_uri": "https://localhost:8080/"
        },
        "id": "vzji5Lfo4q-l",
        "outputId": "bff90307-7273-4615-bf23-e9a6958ac12d"
      },
      "outputs": [
        {
          "name": "stdout",
          "output_type": "stream",
          "text": [
            "Length of IT_companies: 7\n",
            "After adding Twitter: {'Amazon', 'Twitter', 'Google', 'IBM', 'Facebook', 'Apple', 'Microsoft', 'Oracle'}\n",
            "After adding multiple companies: {'Google', 'Twitter', 'Tesla', 'Facebook', 'Microsoft', 'Oracle', 'TCS', 'Infosys', 'Amazon', 'Apple', 'IBM'}\n",
            "After removing Oracle: {'Google', 'Twitter', 'Tesla', 'Facebook', 'Microsoft', 'TCS', 'Infosys', 'Amazon', 'Apple', 'IBM'}\n",
            "\n",
            "# 'remove' raises an error if the item does not exist.\n",
            "# 'discard' does not raise an error if the item is not found.\n",
            "\n",
            "Join A and B: {19, 20, 22, 24, 25, 26, 27, 28}\n",
            "A intersection B: {19, 20, 22, 24, 25, 26}\n",
            "Is A subset of B? True\n",
            "Are A and B disjoint? False\n",
            "A union B: {19, 20, 22, 24, 25, 26, 27, 28}\n",
            "B union A: {19, 20, 22, 24, 25, 26, 27, 28}\n",
            "Symmetric difference between A and B: {27, 28}\n",
            "Length of age list: 8\n",
            "Length of age set: 5\n"
          ]
        }
      ],
      "source": [
        "# Initial sets and list\n",
        "IT_companies = {'Facebook', 'Google', 'Microsoft', 'Apple', 'IBM', 'Oracle', 'Amazon'}\n",
        "A = {19, 22, 24, 20, 25, 26}\n",
        "B = {19, 22, 20, 25, 26, 24, 28, 27}\n",
        "age = [22, 19, 24, 25, 26, 24, 25, 24]\n",
        "\n",
        "# 1. Length of IT_companies\n",
        "print(\"Length of IT_companies:\", len(IT_companies))\n",
        "\n",
        "# 2. Add 'Twitter'\n",
        "IT_companies.add('Twitter')\n",
        "print(\"After adding Twitter:\", IT_companies)\n",
        "\n",
        "# 3. Insert multiple companies\n",
        "IT_companies.update(['Tesla', 'TCS', 'Infosys'])\n",
        "print(\"After adding multiple companies:\", IT_companies)\n",
        "\n",
        "# 4. Remove one company\n",
        "IT_companies.remove('Oracle')  # You can also try with discard\n",
        "print(\"After removing Oracle:\", IT_companies)\n",
        "\n",
        "# 5. Difference between remove and discard\n",
        "print(\"\"\"\n",
        "# 'remove' raises an error if the item does not exist.\n",
        "# 'discard' does not raise an error if the item is not found.\n",
        "\"\"\")\n",
        "\n",
        "# 6. Join A and B (union)\n",
        "joined_AB = A.union(B)\n",
        "print(\"Join A and B:\", joined_AB)\n",
        "\n",
        "# 7. Intersection of A and B\n",
        "print(\"A intersection B:\", A.intersection(B))\n",
        "\n",
        "# 8. Is A subset of B?\n",
        "print(\"Is A subset of B?\", A.issubset(B))\n",
        "\n",
        "# 9. Are A and B disjoint?\n",
        "print(\"Are A and B disjoint?\", A.isdisjoint(B))\n",
        "\n",
        "# 10. Join A with B and B with A\n",
        "print(\"A union B:\", A.union(B))\n",
        "print(\"B union A:\", B.union(A))\n",
        "\n",
        "# 11. Symmetric difference between A and B\n",
        "print(\"Symmetric difference between A and B:\", A.symmetric_difference(B))\n",
        "\n",
        "# 12. Delete sets completely\n",
        "del IT_companies\n",
        "del A\n",
        "del B\n",
        "\n",
        "# 13. Convert age list to a set and compare lengths\n",
        "age_set = set(age)\n",
        "print(\"Length of age list:\", len(age))\n",
        "print(\"Length of age set:\", len(age_set))\n"
      ]
    }
  ],
  "metadata": {
    "colab": {
      "provenance": []
    },
    "kernelspec": {
      "display_name": "Python 3",
      "name": "python3"
    },
    "language_info": {
      "codemirror_mode": {
        "name": "ipython",
        "version": 3
      },
      "file_extension": ".py",
      "mimetype": "text/x-python",
      "name": "python",
      "nbconvert_exporter": "python",
      "pygments_lexer": "ipython3",
      "version": "3.9.0"
    }
  },
  "nbformat": 4,
  "nbformat_minor": 0
}